{
 "cells": [
  {
   "cell_type": "code",
   "execution_count": 11,
   "metadata": {},
   "outputs": [],
   "source": [
    "import re\n",
    "\n",
    "global nepali_text\n",
    "nepali_text = input(\"Enter the words: \")\n",
    "\n",
    "def nepali_tfidf():\n",
    "    f = open('nepali_stopwords.txt','r')\n",
    "    nepali_tfidf_sentence = re.split('|',nepali_text)\n",
    "    words = nepali_text.split()\n",
    "    def frequency(nepali_tfidf_sentence):\n",
    "        frequency_matrix = {}\n",
    "        stopWords = [x.strip() for x in f]\n",
    "        for x in nepali_tfidf_sentence:\n",
    "            frequency_table = {}\n",
    "            words = x.split()\n",
    "            for word in words:\n",
    "                if word in stopWords:\n",
    "                    continue\n",
    "                if word in frequency_table:\n",
    "                    frequency_table[word]+=1\n",
    "                else:\n",
    "                    frequency_table[word] = 1\n",
    "            frequency_matrix[x[:10]] = frequency_table\n",
    "\n",
    "        return frequency_matrix\n",
    "\n",
    "\n"
   ]
  }
 ],
 "metadata": {
  "kernelspec": {
   "display_name": "Python 3",
   "language": "python",
   "name": "python3"
  },
  "language_info": {
   "codemirror_mode": {
    "name": "ipython",
    "version": 3
   },
   "file_extension": ".py",
   "mimetype": "text/x-python",
   "name": "python",
   "nbconvert_exporter": "python",
   "pygments_lexer": "ipython3",
   "version": "3.8.5"
  },
  "orig_nbformat": 4,
  "vscode": {
   "interpreter": {
    "hash": "916dbcbb3f70747c44a77c7bcd40155683ae19c65e1c03b4aa3499c5328201f1"
   }
  }
 },
 "nbformat": 4,
 "nbformat_minor": 2
}
